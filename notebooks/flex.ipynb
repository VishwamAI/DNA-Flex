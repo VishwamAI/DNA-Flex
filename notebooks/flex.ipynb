{
 "cells": [
  {
   "cell_type": "markdown",
   "id": "305094a8",
   "metadata": {},
   "source": [
    "# DNA-Flex Analysis and Visualization\n",
    "\n",
    "This notebook demonstrates the capabilities of DNA-Flex library for analyzing and visualizing DNA structures, flexibility, and molecular features."
   ]
  },
  {
   "cell_type": "markdown",
   "id": "04ffc834",
   "metadata": {},
   "source": [
    "## Setup and Dependencies\n",
    "\n",
    "First, let's ensure we have all required dependencies:"
   ]
  },
  {
   "cell_type": "code",
   "execution_count": null,
   "id": "2dd42f37",
   "metadata": {},
   "outputs": [],
   "source": [
    "from pathlib import Path\n",
    "import argparse\n",
    "from typing import List, Optional, Tuple\n",
    "from flask import Flask, request, jsonify\n",
    "\n",
    "from dnaflex.structure.structure import DnaStructure\n",
    "from dnaflex.parsers.parser import DnaParser\n",
    "from dnaflex.flexibility import FlexibilityAnalyzer\n",
    "from dnaflex.models.analysis import analyze as dna_sequence_analysis\n",
    "from dnaflex.models.dynamics import molecular_dynamics\n",
    "from dnaflex.models.generative import dna_generation\n",
    "from dnaflex.models.drug_binding import binding_analysis\n",
    "from dnaflex.models.mutation_analysis import mutation_effects\n",
    "from dnaflex.models.nlp_analysis import sequence_nlp\n",
    "from dnaflex.models.dna_llm import BioLLM"
   ]
  },
  {
   "cell_type": "markdown",
   "id": "674f8b08",
   "metadata": {},
   "source": [
    "## Initialize Core Components\n",
    "\n",
    "Set up the core components we'll use throughout the analysis:"
   ]
  },
  {
   "cell_type": "code",
   "execution_count": null,
   "id": "673ac8c4",
   "metadata": {},
   "outputs": [],
   "source": [
    "# Initialize data manager for handling DNA structures and sequences\n",
    "data_manager = DataManager()\n",
    "\n",
    "# Initialize the BioLLM model for sequence analysis\n",
    "model = BioLLM(model_type=\"dna\")\n",
    "\n",
    "# Test data\n",
    "test_sequence = \"ATGCTAGCTAGCTGCATGCATGCTAGC\""
   ]
  },
  {
   "cell_type": "markdown",
   "id": "bd6e4a4f",
   "metadata": {},
   "source": [
    "## DNA Flexibility Analysis\n",
    "\n",
    "Let's analyze DNA flexibility using DNA-Flex's built-in algorithms:"
   ]
  },
  {
   "cell_type": "code",
   "execution_count": null,
   "id": "42148bf7",
   "metadata": {},
   "outputs": [],
   "source": [
    "# Example DNA sequence\n",
    "sequence = \"ATGCTAGCTAGCTGCATGCATGCTAGC\"\n",
    "\n",
    "# Initialize the model\n",
    "model = BioLLM(model_type=\"dna\")\n",
    "\n",
    "# Analyze flexibility\n",
    "flexibility_scores = analyze_dna_flexibility(sequence)\n",
    "\n",
    "# Visualize flexibility profile\n",
    "plt.figure(figsize=(12, 6))\n",
    "plt.plot(flexibility_scores, '-o', linewidth=2)\n",
    "plt.title('DNA Flexibility Profile')\n",
    "plt.xlabel('Sequence Position')\n",
    "plt.ylabel('Flexibility Score')\n",
    "plt.grid(True)\n",
    "plt.show()\n",
    "\n",
    "# Print sequence properties\n",
    "print(f\"Sequence length: {len(sequence)}\")\n",
    "print(f\"Average flexibility: {np.mean(flexibility_scores):.2f}\")\n",
    "print(f\"Maximum flexibility: {np.max(flexibility_scores):.2f}\")\n",
    "print(f\"Minimum flexibility: {np.min(flexibility_scores):.2f}\")"
   ]
  },
  {
   "cell_type": "markdown",
   "id": "fdc8ecd6",
   "metadata": {},
   "source": [
    "## Pattern Analysis\n",
    "\n",
    "Analyze sequence patterns and their relationship to flexibility:"
   ]
  },
  {
   "cell_type": "code",
   "execution_count": null,
   "id": "f5867056",
   "metadata": {},
   "outputs": [],
   "source": [
    "# Analyze patterns in the sequence\n",
    "results = model.analyze_patterns(sequence)\n",
    "\n",
    "# Create pattern visualization\n",
    "plt.figure(figsize=(12, 4))\n",
    "plt.imshow([results['pattern_scores']], aspect='auto', cmap='viridis')\n",
    "plt.colorbar(label='Pattern Score')\n",
    "plt.title('DNA Sequence Pattern Analysis')\n",
    "plt.xlabel('Sequence Position')\n",
    "plt.yticks([])\n",
    "plt.show()\n",
    "\n",
    "# Print significant patterns\n",
    "print(\"Significant Patterns Found:\")\n",
    "for pattern, score in results['significant_patterns']:\n",
    "    print(f\"Pattern: {pattern}, Score: {score:.2f}\")"
   ]
  },
  {
   "cell_type": "markdown",
   "id": "a66f3483",
   "metadata": {},
   "source": [
    "## Structure Feature Analysis\n",
    "\n",
    "Analyze structural features using DNA-Flex's structure analysis tools:"
   ]
  },
  {
   "cell_type": "code",
   "execution_count": null,
   "id": "a93002d6",
   "metadata": {},
   "outputs": [],
   "source": [
    "# Analyze structural properties\n",
    "structure_analysis = analyze_structure(sequence)\n",
    "\n",
    "# Plot structural features\n",
    "features = ['base_stacking', 'minor_groove', 'major_groove']\n",
    "fig, axes = plt.subplots(len(features), 1, figsize=(12, 10))\n",
    "fig.suptitle('DNA Structural Features Analysis')\n",
    "\n",
    "for idx, feature in enumerate(features):\n",
    "    axes[idx].plot(structure_analysis[feature], '-o')\n",
    "    axes[idx].set_title(f'{feature.replace(\"_\", \" \").title()}')\n",
    "    axes[idx].grid(True)\n",
    "    \n",
    "plt.tight_layout()\n",
    "plt.show()"
   ]
  },
  {
   "cell_type": "markdown",
   "id": "44cab521",
   "metadata": {},
   "source": [
    "## Interactive Analysis Dashboard\n",
    "\n",
    "Create an interactive dashboard for DNA analysis:"
   ]
  },
  {
   "cell_type": "code",
   "execution_count": null,
   "id": "9688dfb6",
   "metadata": {},
   "outputs": [],
   "source": [
    "import ipywidgets as widgets\n",
    "\n",
    "# Create sequence input widget\n",
    "sequence_input = widgets.Text(\n",
    "    value='ATGCTAGCTAGCT',\n",
    "    description='DNA Sequence:',\n",
    "    style={'description_width': 'initial'}\n",
    ")\n",
    "\n",
    "# Create analysis type selector\n",
    "analysis_type = widgets.Dropdown(\n",
    "    options=['flexibility', 'pattern', 'structure'],\n",
    "    value='flexibility',\n",
    "    description='Analysis Type:',\n",
    "    style={'description_width': 'initial'}\n",
    ")\n",
    "\n",
    "# Analysis function\n",
    "def run_analysis(sequence, analysis):\n",
    "    plt.figure(figsize=(10, 6))\n",
    "    \n",
    "    if analysis == 'flexibility':\n",
    "        scores = analyze_dna_flexibility(sequence)\n",
    "        plt.plot(scores, '-o')\n",
    "        plt.title('DNA Flexibility Analysis')\n",
    "        plt.ylabel('Flexibility Score')\n",
    "        \n",
    "    elif analysis == 'pattern':\n",
    "        results = model.analyze_patterns(sequence)\n",
    "        plt.imshow([results['pattern_scores']], aspect='auto', cmap='viridis')\n",
    "        plt.colorbar(label='Pattern Score')\n",
    "        plt.title('Pattern Analysis')\n",
    "        \n",
    "    elif analysis == 'structure':\n",
    "        features = analyze_structure(sequence)\n",
    "        plt.plot(features['base_stacking'], '-o')\n",
    "        plt.title('Base Stacking Analysis')\n",
    "        plt.ylabel('Stacking Score')\n",
    "    \n",
    "    plt.xlabel('Sequence Position')\n",
    "    plt.grid(True)\n",
    "    plt.show()\n",
    "\n",
    "# Create interactive widget\n",
    "widgets.interactive(run_analysis, \n",
    "                   sequence=sequence_input, \n",
    "                   analysis=analysis_type)"
   ]
  },
  {
   "cell_type": "code",
   "execution_count": null,
   "id": "58a35daa",
   "metadata": {},
   "outputs": [],
   "source": [
    "import ipywidgets as widgets\n",
    "\n",
    "def analyze_structure_features(structure, feature='backbone'):\n",
    "    \"\"\"\n",
    "    Analyze different features of DNA structure\n",
    "    \"\"\"\n",
    "    model = structure[0]\n",
    "    features = {\n",
    "        'backbone': [],\n",
    "        'base_stacking': [],\n",
    "        'groove_width': []\n",
    "    }\n",
    "    \n",
    "    # Calculate structural features\n",
    "    for chain in model:\n",
    "        for residue in chain:\n",
    "            if feature == 'backbone':\n",
    "                # Calculate backbone torsion angles\n",
    "                if 'P' in residue and \"O3'\" in residue:\n",
    "                    features['backbone'].append(1.0)\n",
    "                else:\n",
    "                    features['backbone'].append(0.0)\n",
    "            elif feature == 'base_stacking':\n",
    "                # Simplified base stacking calculation\n",
    "                if 'N1' in residue:\n",
    "                    features['base_stacking'].append(1.0)\n",
    "                else:\n",
    "                    features['base_stacking'].append(0.0)\n",
    "    \n",
    "    return features[feature]\n",
    "\n",
    "# Create interactive widgets\n",
    "feature_selector = widgets.Dropdown(\n",
    "    options=['backbone', 'base_stacking', 'groove_width'],\n",
    "    description='Feature:',\n",
    "    value='backbone'\n",
    ")\n",
    "\n",
    "def update_plot(feature):\n",
    "    plt.figure(figsize=(10, 6))\n",
    "    values = analyze_structure_features(structure, feature)\n",
    "    plt.plot(values, '-o')\n",
    "    plt.title(f'DNA {feature.replace(\"_\", \" \").title()} Analysis')\n",
    "    plt.xlabel('Residue Number')\n",
    "    plt.ylabel('Feature Value')\n",
    "    plt.grid(True)\n",
    "    plt.show()\n",
    "\n",
    "widgets.interactive(update_plot, feature=feature_selector)</VSCode.Cell>\n",
    "\n",
    "<VSCode.Cell language=\"markdown\">\n",
    "## Summary\n",
    "\n",
    "This notebook demonstrated various methods for visualizing and analyzing DNA structures:\n",
    "\n",
    "1. 3D visualization using NGL Viewer\n",
    "2. 2D representation of nucleotides using RDKit\n",
    "3. Flexibility analysis using DNA-Flex\n",
    "4. Interactive structure analysis\n",
    "\n",
    "These visualizations help in understanding:\n",
    "- DNA structural features\n",
    "- Base pairing and stacking\n",
    "- Local and global flexibility\n",
    "- Structural variations and patterns"
   ]
  }
 ],
 "metadata": {
  "kernelspec": {
   "display_name": "Python 3",
   "language": "python",
   "name": "python3"
  },
  "language_info": {
   "codemirror_mode": {
    "name": "ipython",
    "version": 3
   },
   "file_extension": ".py",
   "mimetype": "text/x-python",
   "name": "python",
   "nbconvert_exporter": "python",
   "pygments_lexer": "ipython3",
   "version": "3.12.3"
  }
 },
 "nbformat": 4,
 "nbformat_minor": 5
}
